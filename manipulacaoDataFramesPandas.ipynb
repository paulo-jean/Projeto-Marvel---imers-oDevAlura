{
  "nbformat": 4,
  "nbformat_minor": 0,
  "metadata": {
    "colab": {
      "provenance": [],
      "include_colab_link": true
    },
    "kernelspec": {
      "name": "python3",
      "display_name": "Python 3"
    },
    "language_info": {
      "name": "python"
    }
  },
  "cells": [
    {
      "cell_type": "markdown",
      "metadata": {
        "id": "view-in-github",
        "colab_type": "text"
      },
      "source": [
        "<a href=\"https://colab.research.google.com/github/paulo-jean/Projeto-Marvel-Alura/blob/master/manipulacaoDataFramesPandas.ipynb\" target=\"_parent\"><img src=\"https://colab.research.google.com/assets/colab-badge.svg\" alt=\"Open In Colab\"/></a>"
      ]
    },
    {
      "cell_type": "code",
      "execution_count": null,
      "metadata": {
        "collapsed": true,
        "id": "lXRCpmeX0WZA"
      },
      "outputs": [],
      "source": [
        "!pip install -q pdfplumber\n",
        "!pip install -q camelot-py\n",
        "!apt install ghostscript\n",
        "!pip install -q ghostscript"
      ]
    },
    {
      "cell_type": "code",
      "source": [
        "import pdfplumber\n",
        "\n",
        "ciencias = pdfplumber.open('ciencias.pdf')"
      ],
      "metadata": {
        "id": "X9Mh_naF1wby"
      },
      "execution_count": null,
      "outputs": []
    },
    {
      "cell_type": "code",
      "source": [
        "six_page = ciencias.pages[5]\n",
        "text = six_page.extract_text()\n",
        "text"
      ],
      "metadata": {
        "id": "dqo3rl2j46VB"
      },
      "execution_count": null,
      "outputs": []
    },
    {
      "cell_type": "code",
      "source": [
        "agosto_page = ciencias.pages[4]\n",
        "text2 = agosto_page.extract_text()\n",
        "\n",
        "if '*' in text2:\n",
        "  print('True')\n",
        "else:\n",
        "  print('False')"
      ],
      "metadata": {
        "id": "9PEp6vgbcHU3"
      },
      "execution_count": null,
      "outputs": []
    },
    {
      "cell_type": "code",
      "source": [
        "import camelot\n",
        "import ghostscript\n",
        "tables_pag_six = camelot.read_pdf('ciencias.pdf', pages='all')\n",
        "pag4 = tables_pag_six[4].df\n",
        "pag3 = tables_pag_six[3].df"
      ],
      "metadata": {
        "id": "Gh_P93ih6XSA"
      },
      "execution_count": null,
      "outputs": []
    },
    {
      "cell_type": "code",
      "source": [
        "#Itera sobre cada linha do DataFrame.\n",
        "#Converte a linha em uma string e verifica se 'x' está contida nela.\n",
        "for index, row in pag3.iterrows():\n",
        "    if '*' in str(row):\n",
        "        print(f\"String '*' encontrada na linha {index}\")"
      ],
      "metadata": {
        "colab": {
          "base_uri": "https://localhost:8080/"
        },
        "collapsed": true,
        "id": "UpqjA8r3AL9Y",
        "outputId": "3b5f7524-9070-4d09-b3d0-0d41747afc6f"
      },
      "execution_count": null,
      "outputs": [
        {
          "output_type": "stream",
          "name": "stdout",
          "text": [
            "String '*' encontrada na linha 2\n",
            "String '*' encontrada na linha 3\n",
            "String '*' encontrada na linha 4\n",
            "String '*' encontrada na linha 5\n",
            "String '*' encontrada na linha 6\n",
            "String '*' encontrada na linha 7\n",
            "String '*' encontrada na linha 8\n",
            "String '*' encontrada na linha 9\n",
            "String '*' encontrada na linha 10\n",
            "String '*' encontrada na linha 11\n",
            "String '*' encontrada na linha 12\n",
            "String '*' encontrada na linha 13\n",
            "String '*' encontrada na linha 14\n",
            "String '*' encontrada na linha 15\n",
            "String '*' encontrada na linha 16\n",
            "String '*' encontrada na linha 17\n",
            "String '*' encontrada na linha 18\n",
            "String '*' encontrada na linha 19\n",
            "String '*' encontrada na linha 20\n",
            "String '*' encontrada na linha 21\n"
          ]
        }
      ]
    },
    {
      "cell_type": "code",
      "source": [
        "# Iteração: Essa abordagem é mais explícita, mas pode ser menos eficiente para grandes DataFrames.\n",
        "def presensa_aluno(df):\n",
        "  for coluna in pag3.columns:\n",
        "      for valor in pag3[coluna]:\n",
        "          if valor == '*':\n",
        "            return True\n",
        "            #return print(f\"String '*' encontrada na coluna {coluna}\")\n",
        "  return False\n",
        "\n",
        "presensa_aluno(pag3)"
      ],
      "metadata": {
        "colab": {
          "base_uri": "https://localhost:8080/"
        },
        "id": "EeRF5isgNJ_I",
        "outputId": "5ecd9286-0821-4bbe-ead6-bb1b841189eb"
      },
      "execution_count": null,
      "outputs": [
        {
          "output_type": "execute_result",
          "data": {
            "text/plain": [
              "False"
            ]
          },
          "metadata": {},
          "execution_count": 55
        }
      ]
    },
    {
      "cell_type": "code",
      "source": [
        "'''\n",
        "Explicação:\n",
        "\n",
        "Criando a função: A função criada compara cada elemento do DataFrame com o valor procurado e retorna True se forem iguais, False caso contrário.\n",
        "Aplicando a função: A função map() aplica a função verificar_presenca() a cada elemento do DataFrame, gerando um novo DataFrame com valores booleanos.\n",
        "Verificando a existência: O método any() é aplicado duas vezes:\n",
        "A primeira vez verifica se há algum True em cada coluna.\n",
        "A segunda vez verifica se há algum True no resultado da primeira aplicação, indicando que o valor foi encontrado em pelo menos uma célula do DataFrame.\n",
        "Por que usar map()?\n",
        "\n",
        "Eficiência: É uma forma eficiente de aplicar uma função a cada elemento de um DataFrame.\n",
        "Flexibilidade: Permite personalizar a função de verificação para diferentes tipos de dados e critérios.\n",
        "'''\n",
        "\n",
        "valor_procurado = '*'\n",
        "# Função para verificar se o valor está presente em uma célula\n",
        "def verificar_presenca(item):\n",
        "  return item == valor_procurado\n",
        "\n",
        "# Aplicando a função a cada elemento e verificando se algum é True\n",
        "res = pag3.map(verificar_presenca).any().any()\n",
        "res\n"
      ],
      "metadata": {
        "colab": {
          "base_uri": "https://localhost:8080/"
        },
        "id": "GaCOQagzRyzz",
        "outputId": "b979b96d-0ba8-4de0-efad-7c538db50b89"
      },
      "execution_count": null,
      "outputs": [
        {
          "output_type": "execute_result",
          "data": {
            "text/plain": [
              "True"
            ]
          },
          "metadata": {},
          "execution_count": 61
        }
      ]
    }
  ]
}